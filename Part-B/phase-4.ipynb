{
 "cells": [
  {
   "cell_type": "code",
   "execution_count": 8,
   "metadata": {},
   "outputs": [
    {
     "name": "stdout",
     "output_type": "stream",
     "text": [
      "Requirement already satisfied: scikit-learn in /opt/homebrew/lib/python3.10/site-packages (1.2.2)\n",
      "Requirement already satisfied: threadpoolctl>=2.0.0 in /opt/homebrew/lib/python3.10/site-packages (from scikit-learn) (3.1.0)\n",
      "Requirement already satisfied: scipy>=1.3.2 in /opt/homebrew/lib/python3.10/site-packages (from scikit-learn) (1.10.1)\n",
      "Requirement already satisfied: numpy>=1.17.3 in /opt/homebrew/lib/python3.10/site-packages (from scikit-learn) (1.23.3)\n",
      "Requirement already satisfied: joblib>=1.1.1 in /opt/homebrew/lib/python3.10/site-packages (from scikit-learn) (1.2.0)\n"
     ]
    }
   ],
   "source": [
    "!pip install scikit-learn\n",
    "!pip install category_encoders"
   ]
  },
  {
   "cell_type": "code",
   "execution_count": 43,
   "metadata": {},
   "outputs": [],
   "source": [
    "import pandas as pd\n",
    "import numpy as np\n",
    "import matplotlib.pyplot as plt\n",
    "from sklearn import tree\n",
    "import category_encoders as ce\n",
    "\n",
    "from sklearn.model_selection import train_test_split\n",
    "from sklearn.tree import DecisionTreeRegressor\n",
    "from sklearn.ensemble import GradientBoostingRegressor\n",
    "from sklearn.ensemble import RandomForestRegressor\n",
    "\n",
    "from sklearn.metrics import mean_absolute_error, mean_squared_error, r2_score\n"
   ]
  },
  {
   "attachments": {},
   "cell_type": "markdown",
   "metadata": {},
   "source": [
    "pre-processing of fact table data"
   ]
  },
  {
   "cell_type": "code",
   "execution_count": 24,
   "metadata": {},
   "outputs": [],
   "source": [
    "# data = pd.read_csv(\"/Users/bhavikasewpal/Desktop/CSI4142-Phase-4/data/dataset_file.csv\")\n",
    "# data.head(10)\n",
    "\n",
    "# data['fweatherdate'] = pd.to_datetime(data['fweatherdate'])\n",
    "# data['fcasedate'] = pd.to_datetime(data['fcasedate'])\n",
    "# data['fvaccinationdate'] = pd.to_datetime(data['fvaccinationdate'])\n",
    "\n",
    "# data.head(10)"
   ]
  },
  {
   "cell_type": "code",
   "execution_count": 25,
   "metadata": {},
   "outputs": [],
   "source": [
    "# grouped = data.groupby([\"fweatherid\",\"fweatherdate\"])[[\"temperature\",\"proportionfullyvaccinated\", \"ratechangecases\"]].mean()\n",
    "# grouped.head(20)\n",
    "# grouped.to_csv(\"/Users/bhavikasewpal/Desktop/CSI4142-Phase-4/data/grouped.csv\")"
   ]
  },
  {
   "cell_type": "code",
   "execution_count": 44,
   "metadata": {},
   "outputs": [],
   "source": [
    "# Read grouped data\n",
    "data = pd.read_csv(\"/Users/bhavikasewpal/Desktop/CSI4142-Phase-4/Part-A/data/grouped.csv\")\n",
    "data['date'] = pd.to_datetime(data['date'])\n",
    "# Encode nominal variable date (contains 26 distinct values)\n",
    "data['date'] = data['date'].apply(lambda x: x.toordinal())"
   ]
  },
  {
   "cell_type": "code",
   "execution_count": 45,
   "metadata": {},
   "outputs": [
    {
     "data": {
      "text/html": [
       "<div>\n",
       "<style scoped>\n",
       "    .dataframe tbody tr th:only-of-type {\n",
       "        vertical-align: middle;\n",
       "    }\n",
       "\n",
       "    .dataframe tbody tr th {\n",
       "        vertical-align: top;\n",
       "    }\n",
       "\n",
       "    .dataframe thead th {\n",
       "        text-align: right;\n",
       "    }\n",
       "</style>\n",
       "<table border=\"1\" class=\"dataframe\">\n",
       "  <thead>\n",
       "    <tr style=\"text-align: right;\">\n",
       "      <th></th>\n",
       "      <th>weatherid_1</th>\n",
       "      <th>weatherid_2</th>\n",
       "      <th>weatherid_3</th>\n",
       "      <th>weatherid_4</th>\n",
       "      <th>weatherid_5</th>\n",
       "      <th>weatherid_6</th>\n",
       "      <th>weatherid_7</th>\n",
       "      <th>weatherid_8</th>\n",
       "      <th>weatherid_9</th>\n",
       "      <th>weatherid_10</th>\n",
       "      <th>...</th>\n",
       "      <th>weatherid_60</th>\n",
       "      <th>weatherid_61</th>\n",
       "      <th>weatherid_62</th>\n",
       "      <th>weatherid_63</th>\n",
       "      <th>weatherid_64</th>\n",
       "      <th>weatherid_65</th>\n",
       "      <th>date</th>\n",
       "      <th>temperature</th>\n",
       "      <th>proportionfullyvaccinated</th>\n",
       "      <th>ratechangecases</th>\n",
       "    </tr>\n",
       "  </thead>\n",
       "  <tbody>\n",
       "    <tr>\n",
       "      <th>0</th>\n",
       "      <td>1</td>\n",
       "      <td>0</td>\n",
       "      <td>0</td>\n",
       "      <td>0</td>\n",
       "      <td>0</td>\n",
       "      <td>0</td>\n",
       "      <td>0</td>\n",
       "      <td>0</td>\n",
       "      <td>0</td>\n",
       "      <td>0</td>\n",
       "      <td>...</td>\n",
       "      <td>0</td>\n",
       "      <td>0</td>\n",
       "      <td>0</td>\n",
       "      <td>0</td>\n",
       "      <td>0</td>\n",
       "      <td>0</td>\n",
       "      <td>737760</td>\n",
       "      <td>5.6</td>\n",
       "      <td>0.00</td>\n",
       "      <td>817.275</td>\n",
       "    </tr>\n",
       "    <tr>\n",
       "      <th>1</th>\n",
       "      <td>1</td>\n",
       "      <td>0</td>\n",
       "      <td>0</td>\n",
       "      <td>0</td>\n",
       "      <td>0</td>\n",
       "      <td>0</td>\n",
       "      <td>0</td>\n",
       "      <td>0</td>\n",
       "      <td>0</td>\n",
       "      <td>0</td>\n",
       "      <td>...</td>\n",
       "      <td>0</td>\n",
       "      <td>0</td>\n",
       "      <td>0</td>\n",
       "      <td>0</td>\n",
       "      <td>0</td>\n",
       "      <td>0</td>\n",
       "      <td>737791</td>\n",
       "      <td>5.3</td>\n",
       "      <td>0.06</td>\n",
       "      <td>1136.350</td>\n",
       "    </tr>\n",
       "  </tbody>\n",
       "</table>\n",
       "<p>2 rows × 69 columns</p>\n",
       "</div>"
      ],
      "text/plain": [
       "   weatherid_1  weatherid_2  weatherid_3  weatherid_4  weatherid_5  \\\n",
       "0            1            0            0            0            0   \n",
       "1            1            0            0            0            0   \n",
       "\n",
       "   weatherid_6  weatherid_7  weatherid_8  weatherid_9  weatherid_10  ...  \\\n",
       "0            0            0            0            0             0  ...   \n",
       "1            0            0            0            0             0  ...   \n",
       "\n",
       "   weatherid_60  weatherid_61  weatherid_62  weatherid_63  weatherid_64  \\\n",
       "0             0             0             0             0             0   \n",
       "1             0             0             0             0             0   \n",
       "\n",
       "   weatherid_65    date  temperature  proportionfullyvaccinated  \\\n",
       "0             0  737760          5.6                       0.00   \n",
       "1             0  737791          5.3                       0.06   \n",
       "\n",
       "   ratechangecases  \n",
       "0          817.275  \n",
       "1         1136.350  \n",
       "\n",
       "[2 rows x 69 columns]"
      ]
     },
     "execution_count": 45,
     "metadata": {},
     "output_type": "execute_result"
    }
   ],
   "source": [
    "encoder = ce.OneHotEncoder(cols=['weatherid']) \n",
    "data = encoder.fit_transform(data)\n",
    "data.head(2)"
   ]
  },
  {
   "cell_type": "code",
   "execution_count": 46,
   "metadata": {},
   "outputs": [],
   "source": [
    "predictors = data.loc[:, data.columns.drop('ratechangecases')]\n",
    "predictors.head(20)\n",
    "X = predictors.values\n",
    "Y = data['ratechangecases'].values"
   ]
  },
  {
   "cell_type": "code",
   "execution_count": 47,
   "metadata": {},
   "outputs": [],
   "source": [
    "X_train, X_test, y_train, y_test = train_test_split(X, Y, test_size = 0.10,random_state=44)"
   ]
  },
  {
   "cell_type": "code",
   "execution_count": 96,
   "metadata": {},
   "outputs": [],
   "source": [
    "def score(algorithm, training_data, training_target, testing_data, testing_target, random_state=44):\n",
    "    predictions = []\n",
    "    tree_depth = []\n",
    "    rmse = []\n",
    "    mse = []\n",
    "    mae = []\n",
    "    r2 = []\n",
    "\n",
    "    for depth in range(10,50,10):\n",
    "        if algorithm == \"decision-tree\":\n",
    "            regressor = DecisionTreeRegressor(random_state=random_state, max_depth=depth)\n",
    "        elif algorithm == \"gradient-boosting\":\n",
    "            regressor = GradientBoostingRegressor(random_state=random_state, max_depth=depth)\n",
    "        else:\n",
    "            regressor = RandomForestRegressor(random_state=random_state, max_depth=depth)\n",
    "        regressor.fit(training_data,training_target)\n",
    "        prediction = regressor.predict(testing_data)\n",
    "        rmse_value = (mean_squared_error(testing_target,prediction)**0.5)\n",
    "        mse_value = mean_squared_error(testing_target, prediction)\n",
    "        mae_value = mean_absolute_error(testing_target, prediction)\n",
    "        r2_value = r2_score(testing_target,prediction)\n",
    "        tree_depth.append(depth)\n",
    "        rmse.append(rmse_value)\n",
    "        mse.append(mse_value)\n",
    "        mae.append(mae_value)\n",
    "        r2.append(r2_value)\n",
    "        predictions.append(prediction)\n",
    "    return predictions,tree_depth, rmse, mse, mae, r2\n",
    "        "
   ]
  },
  {
   "cell_type": "code",
   "execution_count": 55,
   "metadata": {},
   "outputs": [],
   "source": [
    "def plot_graph(true_value, prediction):\n",
    "    plt.figure(figsize=(10,10))\n",
    "    plt.scatter(true_value, prediction, c='crimson')\n",
    "    plt.xlabel('True-Values', fontsize=15)\n",
    "    plt.ylabel('Predictions', fontsize=15)\n",
    "    plt.axis('equal')\n",
    "    plt.show()"
   ]
  },
  {
   "cell_type": "code",
   "execution_count": 74,
   "metadata": {},
   "outputs": [],
   "source": [
    "def run():\n",
    "    a = 3\n",
    "    b = \"name\"\n",
    "    c = 66\n",
    "    return a,b,c"
   ]
  },
  {
   "cell_type": "code",
   "execution_count": 77,
   "metadata": {},
   "outputs": [
    {
     "data": {
      "text/plain": [
       "'name'"
      ]
     },
     "execution_count": 77,
     "metadata": {},
     "output_type": "execute_result"
    }
   ],
   "source": [
    "q,w,r = run()\n",
    "w"
   ]
  },
  {
   "attachments": {},
   "cell_type": "markdown",
   "metadata": {},
   "source": [
    "Decision Tree algorithm"
   ]
  },
  {
   "cell_type": "code",
   "execution_count": 91,
   "metadata": {},
   "outputs": [],
   "source": [
    "prediction, tree_depth, rmse, mse, mae, r2 = score(\"gradient-boosting\", X_train, y_train, X_test, y_test)"
   ]
  },
  {
   "cell_type": "code",
   "execution_count": 94,
   "metadata": {},
   "outputs": [
    {
     "name": "stdout",
     "output_type": "stream",
     "text": [
      "[10, 20, 30, 40]\n",
      "[517.0735545475418, 641.5801934287581, 755.654902801282, 672.0788706384833]\n",
      "[267365.06081242964, 411625.1446000827, 571014.3321276149, 451690.00835869915]\n",
      "[252.34661483114428, 219.40524782438513, 238.89811277684845, 217.7785929695603]\n",
      "[0.9934932673271653, 0.9899824802493221, 0.9861035035758907, 0.989007441262333]\n"
     ]
    }
   ],
   "source": [
    "print(tree_depth)\n",
    "print(rmse)\n",
    "print(mse)\n",
    "print(mae)\n",
    "print(r2)"
   ]
  },
  {
   "cell_type": "code",
   "execution_count": null,
   "metadata": {},
   "outputs": [],
   "source": []
  }
 ],
 "metadata": {
  "kernelspec": {
   "display_name": "Python 3",
   "language": "python",
   "name": "python3"
  },
  "language_info": {
   "codemirror_mode": {
    "name": "ipython",
    "version": 3
   },
   "file_extension": ".py",
   "mimetype": "text/x-python",
   "name": "python",
   "nbconvert_exporter": "python",
   "pygments_lexer": "ipython3",
   "version": "3.10.10"
  },
  "orig_nbformat": 4
 },
 "nbformat": 4,
 "nbformat_minor": 2
}
